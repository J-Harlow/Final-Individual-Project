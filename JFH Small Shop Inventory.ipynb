{
 "cells": [
  {
   "cell_type": "markdown",
   "id": "c6523930",
   "metadata": {},
   "source": [
    "# Small Shop Inventory Manager "
   ]
  },
  {
   "cell_type": "code",
   "execution_count": 5,
   "id": "6fbb10c0",
   "metadata": {},
   "outputs": [],
   "source": [
    "class Inventory: #Backstocked Inventory of store\n",
    "    def __init__(self):\n",
    "        self.Produce=[]\n",
    "        self.Deli=[]\n",
    "        self.Herbs=[]\n",
    "        self.Cooking_Supplies=[]\n",
    "        self.Dairy=[]\n",
    "        \n",
    "    def display_backstock(self):\n",
    "        print(\"Produce\", self.Produce)\n",
    "        print(\"Deli:\", self.Deli)\n",
    "        print(\"Herbs:\", self.Herbs)\n",
    "        print(\"Cooking_Supplies:\", self.Cooking_Supplies)\n",
    "        print(\"Dairy:\", self.Dairy)\n",
    "        \n",
    "        #Restocking and resupply\n",
    "    def refill_Produce(self, product, quantity):\n",
    "        self.Produce.append({\"Product\": product, \"Quantity\": quantity})\n",
    "\n",
    "    def refill_Deli(self, product, quantity):\n",
    "        self.Deli.append({\"Product\": product, \"Quantity\": quantity})\n",
    "        \n",
    "    def refill_Herbs(self, product, quantity):\n",
    "        self.Herbs.append({\"Product\": product, \"Quantity\": quantity})\n",
    "        \n",
    "    def refill_Cooking_Supplies(self, product, quantity):\n",
    "        self.Cooking_Supplies.append({\"Product\": product, \"Quantity\": quantity})\n",
    "    \n",
    "    def refill_Dairy(self, product, quantity):\n",
    "        self.Dairy.append({\"Product\": product, \"Quantity\": quantity})\n",
    "        \n",
    "#Now we have a child class for every Aisle\n",
    "#Inventory in the front of the store\n",
    "class Produce_Aisle(Inventory):\n",
    "    def __init__(self):\n",
    "        super().__init__()\n",
    "        \n",
    "    def display_Produce_Aisle_Supply(self):\n",
    "        print(\"Produce Aisle:\")\n",
    "        for product in self.Produce:\n",
    "            print(f\"{product['Product']}: {product['Quantity']}\")\n",
    "\n",
    "class Deli_Aisle(Inventory):\n",
    "    def __init__(self):\n",
    "        super().__init__()\n",
    "        \n",
    "    def display_Deli_Aisle_Supply(self):\n",
    "        print(\"Deli:\")\n",
    "        for product in self.Deli:\n",
    "            print(f\"{product['Product']}: {product['Quantity']}\")\n",
    "            \n",
    "class Herbs_Aisle(Inventory):\n",
    "    def __init__(self):\n",
    "        super().__init__()\n",
    "        \n",
    "    def display_Herbs_Aisle_Supply(self):\n",
    "        print(\"Herbs and Spices Aisle:\")\n",
    "        for product in self.Herbs:\n",
    "            print(f\"{product['Product']}: {product['Quantity']}\")\n",
    "            \n",
    "class Cooking_Supplies_Aisle(Inventory):\n",
    "    def __init__(self):\n",
    "        super().__init__()\n",
    "        \n",
    "    def display_Cooking_Supplies_Aisle_Supply(self):\n",
    "        print(\"Cooking Supplies Aisle:\")\n",
    "        for product in self.Cooking_Supplies:\n",
    "            print(f\"{product['Product']}: {product['Quantity']}\")\n",
    "            \n",
    "class Dairy_Aisle(Inventory):\n",
    "    def __init__(self):\n",
    "        super().__init__()\n",
    "        \n",
    "    def display_Dairy_Aisle_Supply(self):\n",
    "        print(\"Dairy:\")\n",
    "        for product in self.Dairy:\n",
    "            print(f\"{product['Product']}: {product['Quantity']}\")\n",
    "            \n"
   ]
  },
  {
   "cell_type": "markdown",
   "id": "766fa3d5",
   "metadata": {},
   "source": [
    "# Backstock Inventory:\n",
    "#### Commands:\n",
    "#### backstock_inventory=Inventory()\n",
    "#### backstock_inventory.refill_Produce(\"Product\", #)\n",
    "#### backstock_inventory.refill_Deli(\"Product\", #)\n",
    "#### backstock_inventory.refill_Herbs(\"Product\", #)\n",
    "#### backstock_inventory.refill_Cooking_Supplies(\"Product\", #)\n",
    "#### backstock_inventory.refill_Dairy(\"Product\", #)\n",
    "#### backstock_inventory.display_backstock()"
   ]
  },
  {
   "cell_type": "code",
   "execution_count": 6,
   "id": "8073c7a5",
   "metadata": {},
   "outputs": [
    {
     "name": "stdout",
     "output_type": "stream",
     "text": [
      "Produce [{'Product': 'Apples', 'Quantity': 25}]\n",
      "Deli: [{'Product': 'Turkey', 'Quantity': 10}]\n",
      "Herbs: [{'Product': 'Paprika', 'Quantity': 15}]\n",
      "Cooking_Supplies: [{'Product': 'Forks', 'Quantity': 82}]\n",
      "Dairy: [{'Product': 'Gallon Milk', 'Quantity': 100}]\n"
     ]
    }
   ],
   "source": [
    "backstock_inventory=Inventory() #Create instance\n",
    "backstock_inventory.refill_Produce(\"Apples\", 25) #Adding Supply\n",
    "backstock_inventory.refill_Deli(\"Turkey\", 10)\n",
    "backstock_inventory.refill_Herbs(\"Paprika\", 15)\n",
    "backstock_inventory.refill_Cooking_Supplies(\"Forks\", 82)\n",
    "backstock_inventory.refill_Dairy(\"Gallon Milk\", 100)\n",
    "backstock_inventory.display_backstock() #Displaying Inventory"
   ]
  },
  {
   "cell_type": "markdown",
   "id": "96331d2c",
   "metadata": {},
   "source": [
    "# Produce:\n",
    "#### produce_aisle=Produce_Aisle()\n",
    "#### produce_aisle.refill_Produce(\"Product\", #)\n",
    "#### produce_aisle.display_Produce_Aisle_Supply()"
   ]
  },
  {
   "cell_type": "code",
   "execution_count": 7,
   "id": "3f9eb102",
   "metadata": {},
   "outputs": [
    {
     "name": "stdout",
     "output_type": "stream",
     "text": [
      "Produce Aisle:\n",
      "Apples: 40\n",
      "Oranges: 39\n"
     ]
    }
   ],
   "source": [
    "produce_aisle=Produce_Aisle()\n",
    "produce_aisle.refill_Produce(\"Apples\", 40)\n",
    "produce_aisle.refill_Produce(\"Oranges\", 39)\n",
    "produce_aisle.display_Produce_Aisle_Supply()"
   ]
  },
  {
   "cell_type": "markdown",
   "id": "ffdfaa46",
   "metadata": {},
   "source": [
    "# Deli:\n",
    "#### deli_aisle=Deli_Aisle()\n",
    "#### deli_aisle.refill_Deli(\"Product\", #)\n",
    "#### deli_aisle.display_Deli_Aisle_Supply()"
   ]
  },
  {
   "cell_type": "code",
   "execution_count": 8,
   "id": "53ae085d",
   "metadata": {},
   "outputs": [
    {
     "name": "stdout",
     "output_type": "stream",
     "text": [
      "Deli:\n",
      "Hams: 5\n",
      "Turkeys: 20\n"
     ]
    }
   ],
   "source": [
    "deli_aisle=Deli_Aisle()\n",
    "deli_aisle.refill_Deli(\"Hams\", 5)\n",
    "deli_aisle.refill_Deli(\"Turkeys\", 20)\n",
    "deli_aisle.display_Deli_Aisle_Supply()"
   ]
  },
  {
   "cell_type": "markdown",
   "id": "80afc571",
   "metadata": {},
   "source": [
    "# Herbs:\n",
    "#### herbs_aisle=Herbs_Aisle()\n",
    "#### herbs_aisle.refill_Herbs(\"Product\", #)\n",
    "#### herbs_aisle.display_Herbs_Aisle_Supply()"
   ]
  },
  {
   "cell_type": "code",
   "execution_count": 9,
   "id": "291a915b",
   "metadata": {},
   "outputs": [
    {
     "name": "stdout",
     "output_type": "stream",
     "text": [
      "Herbs and Spices Aisle:\n",
      "Paprika: 20\n",
      "Pepper: 15\n"
     ]
    }
   ],
   "source": [
    "herbs_aisle=Herbs_Aisle()\n",
    "herbs_aisle.refill_Herbs(\"Paprika\", 20)\n",
    "herbs_aisle.refill_Herbs(\"Pepper\", 15)\n",
    "herbs_aisle.display_Herbs_Aisle_Supply()"
   ]
  },
  {
   "cell_type": "markdown",
   "id": "48df82ec",
   "metadata": {},
   "source": [
    "# Cooking Supplies:\n",
    "#### cooking_supplies_aisle=Cooking_Supplies_Aisle()\n",
    "#### cooking_supplies_aisle.refill_Cooking_Supplies(\"Product\", #)\n",
    "#### cooking_supplies_aisle.display_Cooking_Supplies_Aisle_Supply()"
   ]
  },
  {
   "cell_type": "code",
   "execution_count": 10,
   "id": "aca5dbcf",
   "metadata": {},
   "outputs": [
    {
     "name": "stdout",
     "output_type": "stream",
     "text": [
      "Cooking Supplies Aisle:\n",
      "Spoons: 30\n",
      "Forks: 45\n"
     ]
    }
   ],
   "source": [
    "cooking_supplies_aisle=Cooking_Supplies_Aisle()\n",
    "cooking_supplies_aisle.refill_Cooking_Supplies(\"Spoons\", 30)\n",
    "cooking_supplies_aisle.refill_Cooking_Supplies(\"Forks\", 45)\n",
    "cooking_supplies_aisle.display_Cooking_Supplies_Aisle_Supply()"
   ]
  },
  {
   "cell_type": "markdown",
   "id": "baf31512",
   "metadata": {},
   "source": [
    "# Dairy:\n",
    "#### dairy_aisle=Dairy_Aisle()\n",
    "#### dairy_aisle.refill_Dairy(\"Product\", #)\n",
    "#### dairy_aisle.display_Dairy_Aisle_Supply()"
   ]
  },
  {
   "cell_type": "code",
   "execution_count": 12,
   "id": "2c4ec0a1",
   "metadata": {},
   "outputs": [
    {
     "name": "stdout",
     "output_type": "stream",
     "text": [
      "Dairy:\n",
      "Milk: 30\n",
      "Yogurt: 40\n"
     ]
    }
   ],
   "source": [
    "dairy_aisle=Dairy_Aisle()\n",
    "dairy_aisle.refill_Dairy(\"Milk\", 30)\n",
    "dairy_aisle.refill_Dairy(\"Yogurt\", 40)\n",
    "dairy_aisle.display_Dairy_Aisle_Supply()"
   ]
  },
  {
   "cell_type": "code",
   "execution_count": null,
   "id": "912713b5",
   "metadata": {},
   "outputs": [],
   "source": []
  },
  {
   "cell_type": "markdown",
   "id": "47c88492",
   "metadata": {},
   "source": [
    "# Author: Justin Harlow\n",
    "#### Fall CS-150, 12/12/23"
   ]
  },
  {
   "cell_type": "code",
   "execution_count": null,
   "id": "fccf59ec",
   "metadata": {},
   "outputs": [],
   "source": []
  }
 ],
 "metadata": {
  "kernelspec": {
   "display_name": "Python 3 (ipykernel)",
   "language": "python",
   "name": "python3"
  },
  "language_info": {
   "codemirror_mode": {
    "name": "ipython",
    "version": 3
   },
   "file_extension": ".py",
   "mimetype": "text/x-python",
   "name": "python",
   "nbconvert_exporter": "python",
   "pygments_lexer": "ipython3",
   "version": "3.11.4"
  }
 },
 "nbformat": 4,
 "nbformat_minor": 5
}
